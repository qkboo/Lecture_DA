{
 "cells": [
  {
   "cell_type": "markdown",
   "id": "ae0e249f-b03b-4baf-9de1-407e7188dd3b",
   "metadata": {},
   "source": [
    "# 2. Python 과 Jupyter Notebook 개발환경\n"
   ]
  },
  {
   "cell_type": "markdown",
   "id": "df50c83a-9fb5-4b99-ac9c-d518eb02821c",
   "metadata": {},
   "source": [
    "## 2.2 개발환경\n",
    "\n",
    "### 파이썬 배포본\n",
    "\n",
    "* Python - http://python.org\n",
    "* Anaconda - https://anaconda.com/\n",
    "* Miniconda - https://docs.conda.io/en/latest/miniconda.html\n",
    "\n",
    "Version Manager:\n",
    "* pyenv - https://github.com/pyenv/pyenv\n",
    "* pyenv-win - https://github.com/pyenv-win/pyenv-win"
   ]
  },
  {
   "cell_type": "markdown",
   "id": "3566db3e-efe1-4f07-a09d-8ecb447edf9a",
   "metadata": {},
   "source": [
    "### 파이썬 개발도구\n",
    "Jupyter Notebook\n",
    "* Jupyter Notebook - http://jupyter.org\n",
    "* Google Colab - http://colab.research.google.com\n",
    "\n",
    "Desktop 개발환경\n",
    "* PyCharm - https://www.jetbrains.com/ko-kr/pycharm\n",
    "* VisualStudio Code - https://code.visualstudio.com/\n",
    "\n",
    "### 과학계산 데이터\n",
    "* NumPy - http://numpy.org\n",
    "* Pandas - http://pandas.pydata.org/\n",
    "\n",
    "### 데이터 수집\n",
    "* BeautifulSoup - http://crummy.com/software/BeautifulSoup/bs4/doc/\n",
    "* Requests - http://docs.python-requests.org\n",
    "* 크롬 브라우저 개발자 도구\n",
    "* Selenium - https://www.selenium.dev/ \n",
    "\n",
    "### 시각화 도구\n",
    "* Matplotlib - https://matplotlib.org\n",
    "* Bokeh - https://docs.bokeh.org\n",
    "\n",
    "\n",
    "\n",
    "### 엑셀 자동화\n",
    "\n",
    "* OpenPyXL - https://openpyxl.readthedocs.io\n",
    "* xlwings - https://www.xlwings.org\n",
    "* xlwings - https://www.xlwings.org\n"
   ]
  }
 ],
 "metadata": {
  "kernelspec": {
   "display_name": "Python 3 (ipykernel)",
   "language": "python",
   "name": "python3"
  },
  "language_info": {
   "codemirror_mode": {
    "name": "ipython",
    "version": 3
   },
   "file_extension": ".py",
   "mimetype": "text/x-python",
   "name": "python",
   "nbconvert_exporter": "python",
   "pygments_lexer": "ipython3",
   "version": "3.9.9"
  }
 },
 "nbformat": 4,
 "nbformat_minor": 5
}
