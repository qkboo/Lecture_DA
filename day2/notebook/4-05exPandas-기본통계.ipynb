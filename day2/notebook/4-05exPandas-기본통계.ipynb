{
 "cells": [
  {
   "cell_type": "code",
   "execution_count": null,
   "metadata": {},
   "outputs": [],
   "source": []
  },
  {
   "cell_type": "markdown",
   "metadata": {},
   "source": [
    "# Pandas 을 이용한 통계 데이터 분석\n",
    "\n",
    "Pandas 이용 데이터 파일의 통계 분석"
   ]
  },
  {
   "cell_type": "code",
   "execution_count": 1,
   "metadata": {
    "tags": []
   },
   "outputs": [
    {
     "data": {
      "text/plain": [
       "Text(0.5, 1.0, '한글 타이틀...')"
      ]
     },
     "execution_count": 1,
     "metadata": {},
     "output_type": "execute_result"
    },
    {
     "data": {
      "image/png": "[encoded data removed]",
      "text/plain": [
       "<Figure size 432x288 with 1 Axes>"
      ]
     },
     "metadata": {
      "needs_background": "light"
     },
     "output_type": "display_data"
    }
   ],
   "source": [
    "import matplotlib.pyplot as plt\n",
    "import matplotlib.font_manager as fm\n",
    "%matplotlib inline\n",
    "\n",
    "font_path = 'C:/Windows/Fonts/NanumGothic.ttf'\n",
    "fontname = fm.FontProperties(fname=font_path, size=18).get_name()  # 폰트 패밀리 이름!\n",
    "\n",
    "plt.rc('font', family=fontname)  #  'NanumGothic'\n",
    "# plt.rcParams[\"font.family\"] = fontname\n",
    "\n",
    "plt.rcParams['axes.unicode_minus'] = False #glypy 8722: Axes에 - 표시 안되는 것\n",
    "plt.title('한글 타이틀...')"
   ]
  },
  {
   "cell_type": "code",
   "execution_count": 45,
   "metadata": {},
   "outputs": [
    {
     "name": "stdout",
     "output_type": "stream",
     "text": [
      "# packages in environment at C:\\Users\\daddy\\miniconda3\\envs\\tf25_p39:\n",
      "#\n",
      "# Name                    Version                   Build  Channel\n"
     ]
    }
   ],
   "source": [
    "! conda list xlsxwriter"
   ]
  },
  {
   "cell_type": "code",
   "execution_count": 46,
   "metadata": {},
   "outputs": [
    {
     "name": "stdout",
     "output_type": "stream",
     "text": [
      "Collecting package metadata (current_repodata.json): ...working... done\n",
      "Solving environment: ...working... done\n",
      "\n",
      "## Package Plan ##\n",
      "\n",
      "  environment location: C:\\Users\\daddy\\miniconda3\\envs\\tf25_p39\n",
      "\n",
      "  added / updated specs:\n",
      "    - xlsxwriter\n",
      "\n",
      "\n",
      "The following packages will be downloaded:\n",
      "\n",
      "    package                    |            build\n",
      "    ---------------------------|-----------------\n",
      "    xlsxwriter-3.0.2           |     pyhd3eb1b0_0         111 KB\n",
      "    ------------------------------------------------------------\n",
      "                                           Total:         111 KB\n",
      "\n",
      "The following NEW packages will be INSTALLED:\n",
      "\n",
      "  xlsxwriter         pkgs/main/noarch::xlsxwriter-3.0.2-pyhd3eb1b0_0\n",
      "\n",
      "The following packages will be UPDATED:\n",
      "\n",
      "  ca-certificates    conda-forge::ca-certificates-2021.10.~ --> pkgs/main::ca-certificates-2021.10.26-haa95532_2\n",
      "\n",
      "The following packages will be SUPERSEDED by a higher-priority channel:\n",
      "\n",
      "  certifi            conda-forge::certifi-2021.10.8-py39hc~ --> pkgs/main::certifi-2021.10.8-py39haa95532_0\n",
      "  openssl            conda-forge::openssl-1.1.1l-h8ffe710_0 --> pkgs/main::openssl-1.1.1l-h2bbff1b_0\n",
      "\n",
      "\n",
      "\n",
      "Downloading and Extracting Packages\n",
      "\n",
      "xlsxwriter-3.0.2     | 111 KB    |            |   0% \n",
      "xlsxwriter-3.0.2     | 111 KB    | ########## | 100% \n",
      "xlsxwriter-3.0.2     | 111 KB    | ########## | 100% \n",
      "Preparing transaction: ...working... done\n",
      "Verifying transaction: ...working... done\n",
      "Executing transaction: ...working... done\n"
     ]
    }
   ],
   "source": [
    "! conda install -y xlsxwriter"
   ]
  },
  {
   "cell_type": "markdown",
   "metadata": {},
   "source": [
    "데이터 파일"
   ]
  },
  {
   "cell_type": "code",
   "execution_count": 6,
   "metadata": {},
   "outputs": [
    {
     "data": {
      "text/html": [
       "<div>\n",
       "<style scoped>\n",
       "    .dataframe tbody tr th:only-of-type {\n",
       "        vertical-align: middle;\n",
       "    }\n",
       "\n",
       "    .dataframe tbody tr th {\n",
       "        vertical-align: top;\n",
       "    }\n",
       "\n",
       "    .dataframe thead th {\n",
       "        text-align: right;\n",
       "    }\n",
       "</style>\n",
       "<table border=\"1\" class=\"dataframe\">\n",
       "  <thead>\n",
       "    <tr style=\"text-align: right;\">\n",
       "      <th></th>\n",
       "      <th>A지점</th>\n",
       "      <th>B지점</th>\n",
       "      <th>C지점</th>\n",
       "    </tr>\n",
       "    <tr>\n",
       "      <th>날짜</th>\n",
       "      <th></th>\n",
       "      <th></th>\n",
       "      <th></th>\n",
       "    </tr>\n",
       "  </thead>\n",
       "  <tbody>\n",
       "    <tr>\n",
       "      <th>2020-07-01</th>\n",
       "      <td>239.0</td>\n",
       "      <td>246.0</td>\n",
       "      <td>268.0</td>\n",
       "    </tr>\n",
       "    <tr>\n",
       "      <th>2020-07-02</th>\n",
       "      <td>249.0</td>\n",
       "      <td>257.0</td>\n",
       "      <td>279.0</td>\n",
       "    </tr>\n",
       "    <tr>\n",
       "      <th>2020-07-03</th>\n",
       "      <td>237.0</td>\n",
       "      <td>270.0</td>\n",
       "      <td>271.0</td>\n",
       "    </tr>\n",
       "    <tr>\n",
       "      <th>2020-07-06</th>\n",
       "      <td>252.0</td>\n",
       "      <td>262.0</td>\n",
       "      <td>273.0</td>\n",
       "    </tr>\n",
       "    <tr>\n",
       "      <th>2020-07-07</th>\n",
       "      <td>252.0</td>\n",
       "      <td>265.0</td>\n",
       "      <td>269.0</td>\n",
       "    </tr>\n",
       "  </tbody>\n",
       "</table>\n",
       "</div>"
      ],
      "text/plain": [
       "              A지점    B지점    C지점\n",
       "날짜                             \n",
       "2020-07-01  239.0  246.0  268.0\n",
       "2020-07-02  249.0  257.0  279.0\n",
       "2020-07-03  237.0  270.0  271.0\n",
       "2020-07-06  252.0  262.0  273.0\n",
       "2020-07-07  252.0  265.0  269.0"
      ]
     },
     "execution_count": 6,
     "metadata": {},
     "output_type": "execute_result"
    }
   ],
   "source": [
    "import numpy as np\n",
    "import pandas as pd\n",
    "\n",
    "df = pd.read_csv( 'data/지점별_일일_판매량.csv', index_col='날짜')\n",
    "df.head()"
   ]
  },
  {
   "cell_type": "markdown",
   "metadata": {},
   "source": [
    "# 1. 통계 데이터 분석 기본"
   ]
  },
  {
   "cell_type": "markdown",
   "metadata": {},
   "source": [
    "### 기본 통계량 이해\n",
    "\n",
    "모집단, 표본, 관측값과 관측 변수에 대해 이해하고 기본 통계량 등에 대한 표현을 알아보자"
   ]
  },
  {
   "attachments": {
    "0b8fb579-f284-4479-afc5-e1da7f2e690b.png": {
     "image/png": "[encoded data removed]"
    }
   },
   "cell_type": "markdown",
   "metadata": {},
   "source": [
    "#### 모집단 표본\n",
    "\n",
    "통계학에서 관측 대상이 되는 전체를  데이터가 나타나는 현상의 전체를 **모집단population**이라 하고, 모집단에서 선택한 주어진 데이터를 **표본** 이라 한다. 모집단 전체를 전수 조사하는 것은 시간과 비용이 많이 들게 되므로 표본을 조사한다.\n",
    "\n",
    "#### 관측변수\n",
    "\n",
    "모집단, 표본의 특징을 나타내는 하나의 관측을 변수라고 한다. 변수는 하나 이상이 일 수 있다.\n",
    "\n",
    "![image.png](attachment:0b8fb579-f284-4479-afc5-e1da7f2e690b.png)"
   ]
  },
  {
   "attachments": {
    "493cc759-a4c7-406c-885c-8f9e65964ea7.png": {
     "image/png": "[encoded data removed]"
    }
   },
   "cell_type": "markdown",
   "metadata": {},
   "source": [
    "관측 변수는 데이터 속성에 따라서 이산형과 문자형으로 구분할 수 있다. 문자형은 대부분 범주형을 이룰 것이다.\n",
    "![image.png](attachment:493cc759-a4c7-406c-885c-8f9e65964ea7.png)"
   ]
  },
  {
   "cell_type": "markdown",
   "metadata": {},
   "source": [
    "#### 현상 일반화하기: 통계적 추론\n",
    "\n",
    "저자블로그 글: [데이터과학 프로세스(5): 통계적 추론](http://www.hellodatascience.com/?p=366)\n",
    "\n",
    "> \"통계로 거짓말을 하기는 쉽지만 진실을 말하기는 어렵다\" - 안드레아 덩켈스\n",
    "\n",
    "탐색적 분석으로 개별 속성값의 분포, 속성 간에 어떤 상관 관계가 존재하는지 등을 파악할 수 있었다.\n",
    "데이터 분석의 목표는 관찰된 데이터를 넘어 그 근간에 있는 현상에 대한 더 나은 이해에 도달하는 것이다. 즉 부분적인 관찰을 통해 전체에 대한 판단을 내리는 **추론**이 필요한 것이다.\n",
    "또한 **표본을 바탕으로 모집단의 특성에 대한 결론을 유도하는 것을  _통계적 추론statistical inference_**라고 한다. 이런 통계적 추론은 **통계 이론을 바탕으로 _현상의 일반화_** 라고 할 수 있다. 현상에 대한 관찰에서 일반화 할 수 있는 지식을 이끌어 내는 것이 과학의 본령이니 통계적 추론은 데이터 과학의 본질과 닿아 있다.\n"
   ]
  },
  {
   "cell_type": "markdown",
   "metadata": {},
   "source": [
    "### 기본 통계량 구하기\n",
    "\n",
    "데이터는 데이터의 개수, 값 출현 횟수로 규모를 파악할 수 있다.  일반적으로 어떤 데이터 집합에 대한 특징을 나타내는 대표값으로 기본 통계 측정값에 해당하는 평균, 중위수, 최빈수, 범위를 살펴보고 분산과 표준편차를 사용한다.\n",
    "\n",
    "기술통계(Descriptive stastics) 계산을 제공한다.\n",
    "\n",
    " - 데이터 개수 : count\n",
    " - 평균: mean, average\n",
    " - 분산: variance\n",
    " - 표준편차: Standard deviation\n",
    " - 최대값: maximum\n",
    " - 최소값: minimum\n",
    " - 중앙값: median\n",
    " - 사분위수: quartile\n",
    "\n",
    "> 통계학에서 몇몇 통계값이 모집단 데이터인가 표본인가에 따라 약간 차이가 있다. 여기서는 모집단에 대한 계산 방법으로 설명한다."
   ]
  },
  {
   "cell_type": "markdown",
   "metadata": {},
   "source": [
    "## 중심경향성: 평균,중앙값,최솟값,최댓값\n",
    "\n",
    "데이터의 중심이 어디인지를 나타내는 중심 경향성 (Central tendency) 지표는 매우 중요하다.  \n",
    "\n",
    "어떻게 분포되었는지 파악하는 중심경향으로 대부분 데이터 값을 데이터 위치의 개수로 나눈 평균을 사용할 수 있다. 평균을 통해서 각 지표가 전체 지표중에서 어느 위치인지를 파악하기 좋다.\n",
    "\n",
    "- 평균\n",
    "- 중앙값\n",
    "\n",
    "이것은 데이터의 중심경향성과 관련있다."
   ]
  },
  {
   "cell_type": "markdown",
   "metadata": {},
   "source": [
    "### 평균(average) \n",
    "\n",
    " - 산술평균: 보통 평균(mean)은 관측치의 총합을 관측치의 개수로 나누어 구한다\n",
    " - 기하평균: 관측치 수의 곱을 관측치의 제곱근을 취해서 산술하는 평균값이다.\n",
    " - 조화평균:"
   ]
  },
  {
   "cell_type": "markdown",
   "metadata": {},
   "source": [
    "### 평균(산술평균)\n",
    "\n",
    "평균은 주어진 데이터의 모든 요소의 합계를 요소의 수로 나눈 것으로 산술적으로 데이터의 합을 데이터 개수로 나눈 것이라 해서 산술평균으로도 불린다. 다음 같은 n 개 데이터를 가진 집합 x\n",
    "\n",
    "$$\n",
    "x = \\{ x_1,x_2,\\cdots,x_n \\}\n",
    "$$\n",
    "\n",
    "집합 x의 산술 평균은 $\\bar{x}$ 로 표기.\n",
    "\n",
    "$$\n",
    "\\bar{x} = \\frac{x_1 + x_2 + \\cdots + x_n}{n} = \\frac{1}{n}(\\sum_{i=1}^n{x_i})\n",
    "$$"
   ]
  },
  {
   "cell_type": "code",
   "execution_count": 4,
   "metadata": {},
   "outputs": [
    {
     "data": {
      "text/plain": [
       "A지점    249.769231\n",
       "dtype: float64"
      ]
     },
     "execution_count": 4,
     "metadata": {},
     "output_type": "execute_result"
    }
   ],
   "source": [
    "df[['A지점']].mean()"
   ]
  },
  {
   "cell_type": "markdown",
   "metadata": {},
   "source": [
    "평균은 쉽게 데이터의 경향을 파악할 수 있지만 극단적 이상치가 있으면 영향을 많이 받는다. 예를 들어 A지점은 4명인데 직원 연봉이 5000원 정도고, 지점장 연봉이 1.5억 이라면 이 지점의 평균 연봉은 7000만원이 된다. 이 평균 연봉이 직원들의 연봉을 대표하지 못한다. "
   ]
  },
  {
   "cell_type": "markdown",
   "metadata": {},
   "source": [
    "\n",
    "### 중앙값 Median\n",
    "\n",
    "데이터에서 극단적인 이상값이 있으면 평균보다 가장 가운데 위치한 값을 사용하기도 한다. 중앙값(중위수, Median)은 데이터에서 가장 가운데 위치한 값을 말한다.\n",
    "\n",
    "데이터 집합에서 중앙값을 찾기 위해서는 데이터 개수가 홀수라면 가장 가운데 위치 값을 사용하고, 짝수라면 가장 중앙에 있는 두 데이터의 평균을 의미한다. 데이터 개수에 따라서 아래 같이 찾는다.\n",
    "\n",
    "- 홀수라면 가장 가운데 위치 값을 사용한다.\n",
    "- 짝수라면 가장 중앙에 있는 두 데이터의 평균을 사용한다.\n",
    "\n",
    "이를 정리하면 데이터 x의 중앙값 $\\tilde{x}$ 는\n",
    "$$\n",
    "\\tilde{x} = \\begin{cases}\n",
    "\\frac{n+1}{2}, & \\mbox{  n이 홀수} \\\\\n",
    "\\frac{n}{2} 와 \\frac{n}{2}+1 번째 값의 평균, & \\mbox{n이 짝수 }\n",
    "\\end{cases}\n",
    "$$"
   ]
  },
  {
   "cell_type": "markdown",
   "metadata": {},
   "source": [
    "4명 직원의 연봉 5000만원 , 지점장 1.5억인 경우"
   ]
  },
  {
   "cell_type": "code",
   "execution_count": 7,
   "metadata": {},
   "outputs": [
    {
     "data": {
      "text/plain": [
       "17500.0"
      ]
     },
     "execution_count": 7,
     "metadata": {},
     "output_type": "execute_result"
    }
   ],
   "source": [
    "np.median([4*5000,15000])"
   ]
  },
  {
   "cell_type": "markdown",
   "metadata": {},
   "source": [
    "### 최솟값, 최댓값\n",
    "\n",
    "가장 작거나 큰 값은 데이터를 오름차순으로 정렬해 처음과 마지막 값을 구하면 된다."
   ]
  },
  {
   "cell_type": "code",
   "execution_count": 10,
   "metadata": {},
   "outputs": [
    {
     "data": {
      "text/plain": [
       "(A지점    237.0\n",
       " dtype: float64,\n",
       " A지점    262.0\n",
       " dtype: float64)"
      ]
     },
     "execution_count": 10,
     "metadata": {},
     "output_type": "execute_result"
    }
   ],
   "source": [
    "df[['A지점']].min(),df[['A지점']].max()"
   ]
  },
  {
   "cell_type": "markdown",
   "metadata": {},
   "source": [
    "### ex)  모든 지점의 최대/최소 값을 구하라"
   ]
  },
  {
   "cell_type": "code",
   "execution_count": 12,
   "metadata": {},
   "outputs": [
    {
     "name": "stdout",
     "output_type": "stream",
     "text": [
      "A지점 237.0 262.0\n",
      "B지점 246.0 270.0\n",
      "C지점 261.0 279.0\n"
     ]
    }
   ],
   "source": [
    "for c in df.columns:\n",
    "    print(c, df[c].min(), df[c].max())"
   ]
  },
  {
   "cell_type": "code",
   "execution_count": 13,
   "metadata": {},
   "outputs": [
    {
     "data": {
      "text/plain": [
       "(A지점    237.0\n",
       " B지점    246.0\n",
       " C지점    261.0\n",
       " dtype: float64,\n",
       " A지점    262.0\n",
       " B지점    270.0\n",
       " C지점    279.0\n",
       " dtype: float64)"
      ]
     },
     "execution_count": 13,
     "metadata": {},
     "output_type": "execute_result"
    }
   ],
   "source": [
    "df.min(), df.max()"
   ]
  },
  {
   "cell_type": "markdown",
   "metadata": {},
   "source": [
    "### ex) 아래 데이터의 최소, 평균, 중앙, 최대 값을 구하라.\n",
    "\n",
    "```\n",
    "[4400, 4800, 5200, 5600, 15000]\n",
    "```"
   ]
  },
  {
   "cell_type": "code",
   "execution_count": 14,
   "metadata": {},
   "outputs": [
    {
     "data": {
      "text/plain": [
       "array([ 4400,  4800,  5200,  5600, 15000])"
      ]
     },
     "execution_count": 14,
     "metadata": {},
     "output_type": "execute_result"
    }
   ],
   "source": [
    "data = np.array([4400, 4800, 5200, 5600, 15000])\n",
    "data"
   ]
  },
  {
   "cell_type": "code",
   "execution_count": 16,
   "metadata": {},
   "outputs": [
    {
     "data": {
      "text/plain": [
       "(4400, 7000.0, 5200.0, 15000)"
      ]
     },
     "execution_count": 16,
     "metadata": {},
     "output_type": "execute_result"
    }
   ],
   "source": [
    "data.min(), data.mean(), np.median(data), data.max()"
   ]
  },
  {
   "cell_type": "markdown",
   "metadata": {},
   "source": [
    "중앙값에서 최대값은 극단적으로 이상치를 보여주고 있다."
   ]
  },
  {
   "cell_type": "markdown",
   "metadata": {},
   "source": [
    "### 최빈값(Mode)\n",
    "\n",
    "최빈값(mode)은 데이터에서 가장 빈번하게 출현하는 값으로 하나가 아니라 여러개가 될 수 있다. 히스토그람에서 가장 높은 막대가 최빈값이 된다.\n"
   ]
  },
  {
   "cell_type": "code",
   "execution_count": 17,
   "metadata": {},
   "outputs": [
    {
     "data": {
      "text/plain": [
       "252.0    3\n",
       "247.0    2\n",
       "262.0    2\n",
       "239.0    1\n",
       "249.0    1\n",
       "237.0    1\n",
       "250.0    1\n",
       "256.0    1\n",
       "242.0    1\n",
       "Name: A지점, dtype: int64"
      ]
     },
     "execution_count": 17,
     "metadata": {},
     "output_type": "execute_result"
    }
   ],
   "source": [
    "df['A지점'].value_counts()"
   ]
  },
  {
   "cell_type": "code",
   "execution_count": 18,
   "metadata": {},
   "outputs": [
    {
     "data": {
      "text/plain": [
       "(array([237., 239., 242., 247., 249., 250., 252., 256., 262.]),\n",
       " array([1, 1, 1, 2, 1, 1, 3, 1, 2], dtype=int64))"
      ]
     },
     "execution_count": 18,
     "metadata": {},
     "output_type": "execute_result"
    }
   ],
   "source": [
    "np.unique(df['A지점'], return_counts=True)"
   ]
  },
  {
   "cell_type": "code",
   "execution_count": 22,
   "metadata": {},
   "outputs": [
    {
     "data": {
      "text/plain": [
       "('Median:', 247.0)"
      ]
     },
     "execution_count": 22,
     "metadata": {},
     "output_type": "execute_result"
    }
   ],
   "source": [
    "rows, counts = np.unique(df['A지점'], return_counts=True)\n",
    "'Median:', rows[counts.max()]"
   ]
  },
  {
   "cell_type": "markdown",
   "metadata": {},
   "source": [
    "### ex) 샘플 데이터에서 평균, 중앙값, 최빈값을 표시해 보자.\n",
    "\n",
    "scipy.stats 모듈에서 왜도분포 데이터를 생성해 확인해 보자."
   ]
  },
  {
   "cell_type": "code",
   "execution_count": 27,
   "metadata": {},
   "outputs": [],
   "source": [
    "from scipy.stats import skewnorm\n",
    "\n",
    "data = skewnorm.rvs(10, size=1000)\n",
    "data_mean = data.mean()\n",
    "data_median = np.median(data)\n",
    "rows, counts = np.unique(data, return_counts=True)\n",
    "data_mode = data[counts.max()]"
   ]
  },
  {
   "cell_type": "code",
   "execution_count": 28,
   "metadata": {},
   "outputs": [
    {
     "data": {
      "image/png": "[encoded data removed]",
      "text/plain": [
       "<Figure size 432x288 with 1 Axes>"
      ]
     },
     "metadata": {
      "needs_background": "light"
     },
     "output_type": "display_data"
    }
   ],
   "source": [
    "plt.hist(data)\n",
    "plt.axvline(data_mean, c='k', ls='-.', label='평균')\n",
    "plt.axvline(data_median, c='b', ls='--', label='중앙값')\n",
    "plt.axvline(data_mode, c='y', ls='-.', label='최빈값')\n",
    "plt.title('평균/중앙값/최빈값 비교')\n",
    "plt.legend()\n",
    "plt.show()"
   ]
  },
  {
   "cell_type": "markdown",
   "metadata": {},
   "source": [
    "## 산포도 Disperison\n",
    "\n",
    "산포도(Dispersion)은 데이터가 얼마나 퍼져있는지를 보여준다. 보통 산포도 값이 0에 근접하면 데이터가 거의 퍼저 있지 않다는 의미이고, 그보다 크면 매우 퍼져 있다는 의미이다. 산포도를 측정하는 방법으로 **범위range**, **분위variance**, **표준편차 standard deviation** 이 있다.\n"
   ]
  },
  {
   "cell_type": "markdown",
   "metadata": {},
   "source": [
    "산포도에서 0,100 으로 구성된 데이터나, 0,100 그리고 50으로 구성된 데이터는 동일한 퍼짐을 갖는다. 데이터만 보면 0,100 이 더 포진 느낌이 든다."
   ]
  },
  {
   "cell_type": "markdown",
   "metadata": {},
   "source": [
    "#### 데이터의 범위 - range\n",
    "\n",
    "가장 큰 값과 작은 값의 차이가 범위가 된다. 보통 산포도 함수는 range()를 쓰는데, 파이썬에는 range()라는 리스트 함수가 있다.\n"
   ]
  },
  {
   "cell_type": "code",
   "execution_count": 29,
   "metadata": {},
   "outputs": [
    {
     "data": {
      "text/plain": [
       "25.0"
      ]
     },
     "execution_count": 29,
     "metadata": {},
     "output_type": "execute_result"
    }
   ],
   "source": [
    "df['A지점'].max() - df['A지점'].min()"
   ]
  },
  {
   "cell_type": "markdown",
   "metadata": {},
   "source": [
    "`nsmallest()`, `nlargeest()` 로 row 단위로 확인 가능하다."
   ]
  },
  {
   "cell_type": "code",
   "execution_count": 32,
   "metadata": {},
   "outputs": [
    {
     "data": {
      "text/html": [
       "<div>\n",
       "<style scoped>\n",
       "    .dataframe tbody tr th:only-of-type {\n",
       "        vertical-align: middle;\n",
       "    }\n",
       "\n",
       "    .dataframe tbody tr th {\n",
       "        vertical-align: top;\n",
       "    }\n",
       "\n",
       "    .dataframe thead th {\n",
       "        text-align: right;\n",
       "    }\n",
       "</style>\n",
       "<table border=\"1\" class=\"dataframe\">\n",
       "  <thead>\n",
       "    <tr style=\"text-align: right;\">\n",
       "      <th></th>\n",
       "      <th>A지점</th>\n",
       "      <th>B지점</th>\n",
       "      <th>C지점</th>\n",
       "    </tr>\n",
       "    <tr>\n",
       "      <th>날짜</th>\n",
       "      <th></th>\n",
       "      <th></th>\n",
       "      <th></th>\n",
       "    </tr>\n",
       "  </thead>\n",
       "  <tbody>\n",
       "    <tr>\n",
       "      <th>2020-07-03</th>\n",
       "      <td>237.0</td>\n",
       "      <td>270.0</td>\n",
       "      <td>271.0</td>\n",
       "    </tr>\n",
       "    <tr>\n",
       "      <th>2020-07-01</th>\n",
       "      <td>239.0</td>\n",
       "      <td>246.0</td>\n",
       "      <td>268.0</td>\n",
       "    </tr>\n",
       "    <tr>\n",
       "      <th>2020-07-16</th>\n",
       "      <td>242.0</td>\n",
       "      <td>262.0</td>\n",
       "      <td>275.0</td>\n",
       "    </tr>\n",
       "  </tbody>\n",
       "</table>\n",
       "</div>"
      ],
      "text/plain": [
       "              A지점    B지점    C지점\n",
       "날짜                             \n",
       "2020-07-03  237.0  270.0  271.0\n",
       "2020-07-01  239.0  246.0  268.0\n",
       "2020-07-16  242.0  262.0  275.0"
      ]
     },
     "execution_count": 32,
     "metadata": {},
     "output_type": "execute_result"
    }
   ],
   "source": [
    "df.nsmallest(3, 'A지점')"
   ]
  },
  {
   "cell_type": "markdown",
   "metadata": {},
   "source": [
    "### 편차와 분산\n",
    "\n",
    "데이터 집합에서 평균을 기준으로 얼마나 퍼져 있는지를 알려주는 지표가 분산(Variance) 과 편차(Deviation) 이다. \n",
    " - 편차는 각 요소가 평균에서 얼마나 떨어졌는지를 알려주고, \n",
    " - 분산은 요소들의 편차의 제곱의 합을 측정해 산포도를 측정하는 개념이다.\n",
    "\n"
   ]
  },
  {
   "cell_type": "markdown",
   "metadata": {},
   "source": []
  },
  {
   "cell_type": "markdown",
   "metadata": {},
   "source": [
    "\n",
    "\n",
    "### 분산 Variance\n",
    "\n",
    "분산은 요소들의 편차를 측정해 평균을 기준으로 얼마나 퍼져있는지를 알 수 잇다. 분산은 편차의 제곱의 합을 요소 개수로 나눈 것이다. 표준편차는 분산의 제곱근이다.\n",
    "\n",
    "요소의 개수가 N인 모집단 데이터의 분산($\\sigma_x^2$, 모분산)과 분산에 제곱근을 씌운 표준편차($\\sigma_x$) 는 다음 같다.\n",
    "\n",
    "\n",
    "$$\n",
    "\\sigma_x^2 = \\frac{1}{n} \\sum_{i=1}^{N} (x_i - \\bar{x})^2 \n",
    "\\\\\n",
    "\\sigma_x = \\sqrt{\\frac{1}{N} \\sum_{i=1}^{N} (x_i - \\bar{x})^2}\n",
    "$$\n"
   ]
  },
  {
   "cell_type": "markdown",
   "metadata": {},
   "source": [
    "평균을 $\\mu$ 로 표현하면 다음 같이 쓰기도 한다.\n",
    "\n",
    "$$\n",
    "\\sigma_x^2 = \\frac{1}{n} \\sum_{i=1}^{N} (x_i - \\mu)^2 = \\frac{1}{N}\\{ (x_1 - \\mu)^2 + (x_2 - \\mu)^2 + \\cdots (x_N - \\mu)^2 \\}\n",
    "$$\n"
   ]
  },
  {
   "cell_type": "markdown",
   "metadata": {},
   "source": [
    "분산과 표준편차는 데이터의 흩어진 정도를 말해준다. 분산 값이 높다는 것은 평균에서 멀리 떨어져 있다는 것이다. 낮은 분산 값은 평균에 가깝게 뭉쳐 있다는 것을 의미한다. \n"
   ]
  },
  {
   "cell_type": "markdown",
   "metadata": {},
   "source": [
    "#### ex) A, B 데이터의 히스토그람을 서브플롯에 그려보자\n",
    "\n",
    "데이터 A와 B가 있을 때 데이터 평균이 같더라도 표준편차(혹은 분산)이 큰 쪽의 데이터는 각 요소가 더 많이 흩어져 있다는 의미다."
   ]
  },
  {
   "cell_type": "code",
   "execution_count": 33,
   "metadata": {},
   "outputs": [],
   "source": [
    "A = np.array([50,60,70,80,90,100,100,100,100,110,120,130,140,150])\n",
    "B = np.array([80,80,90,90,90,100,100,100,100,110,110,110,120,120])"
   ]
  },
  {
   "cell_type": "code",
   "execution_count": 42,
   "metadata": {},
   "outputs": [
    {
     "data": {
      "image/png": "[encoded data removed]",
      "text/plain": [
       "<Figure size 720x360 with 2 Axes>"
      ]
     },
     "metadata": {
      "needs_background": "light"
     },
     "output_type": "display_data"
    }
   ],
   "source": [
    "plt.figure(figsize=(10,5))\n",
    "plt.subplot(121)\n",
    "plt.title('A')\n",
    "plt.hist(A,bins=5)\n",
    "\n",
    "plt.subplot(122)\n",
    "plt.title('B')\n",
    "plt.hist(B,bins=5)\n",
    "\n",
    "plt.show()"
   ]
  },
  {
   "cell_type": "markdown",
   "metadata": {},
   "source": [
    "## pandas로 통계량 알아보기"
   ]
  },
  {
   "cell_type": "code",
   "execution_count": 50,
   "metadata": {},
   "outputs": [
    {
     "data": {
      "image/png": "[encoded data removed]",
      "text/plain": [
       "<Figure size 432x288 with 1 Axes>"
      ]
     },
     "metadata": {
      "needs_background": "light"
     },
     "output_type": "display_data"
    }
   ],
   "source": [
    "# 박스 그래프 그리기\n",
    "ax = df.plot.box(y=[\"A지점\", \"B지점\", \"C지점\"], showmeans=True) # 박스 그래프\n",
    "ax.set_ylabel(\"일일 판매량\", fontsize=15)                        # y축 라벨을 추가\n",
    "ax.set_title(\"지점별 일일 판매량 분포\", fontsize=20)             # 그래프 제목을 추가\n",
    "\n",
    "# 그래프를 이미지 파일로 저장\n",
    "image_file = 'works/지점별_일일_판매량_분포.png'\n",
    "plt.savefig(image_file, dpi=300) \n",
    "plt.show()"
   ]
  },
  {
   "cell_type": "markdown",
   "metadata": {},
   "source": [
    "#### 엑셀로 저장\n",
    "\n",
    "구한 기본통계량을 엑셀 그래프로 저장해보자."
   ]
  },
  {
   "cell_type": "code",
   "execution_count": 51,
   "metadata": {},
   "outputs": [
    {
     "name": "stdout",
     "output_type": "stream",
     "text": [
      "생성 파일: 지점별_일일_판매량_기본통계량_박스그래프.xlsx\n"
     ]
    }
   ],
   "source": [
    "import pandas as pd\n",
    "\n",
    "# 저장할 엑셀 파일 경로\n",
    "excel_file= '지점별_일일_판매량_기본통계량_박스그래프.xlsx' \n",
    "sheet = 'Sheet1'\n",
    "\n",
    "# 쓰기 엔진을 xlsxwriter로 지정해 판다스의 ExcelWriter 객체 생성\n",
    "excel_writer = pd.ExcelWriter(excel_file, engine='xlsxwriter')\n",
    "\n",
    "# DataFrame 데이터(df)를 생성한 엑셀 객체에 쓰기(시트 이름을 지정)\n",
    "df.to_excel(excel_writer, sheet_name=sheet) # index를 포함\n",
    "\n",
    "# 워크시트에 위치를 지정해 DataFrame 데이터(df_stat) 쓰기\n",
    "row = 0 # 행 위치\n",
    "col = len(df.columns) + 2 # 열 위치\n",
    "df.to_excel(excel_writer, startrow=row, startcol=col, sheet_name=sheet)\n",
    "\n",
    "# 생성한 ExcelWriter 객체(excel_writer)를 이용해 워크시트 객체 생성\n",
    "worksheet = excel_writer.sheets[sheet]\n",
    "\n",
    "# 워크시트 객체(worksheet)에 이미지가 들어갈 위치를 지정해 이미지 넣기\n",
    "row = len(df.index) + 2  # 행 위치\n",
    "col = len(df.columns) + 2     # 열 위치\n",
    "worksheet.insert_image(row, col, image_file, {'x_scale': 0.6, 'y_scale': 0.6})\n",
    "\n",
    "# 객체를 닫고 엑셀 파일로 저장\n",
    "excel_writer.save()\n",
    "\n",
    "print(\"생성 파일:\", excel_file) # 생성한 파일 이름 출력"
   ]
  },
  {
   "cell_type": "markdown",
   "metadata": {},
   "source": [
    "## 관측 데이터 분할\n",
    "\n",
    "데이터 파일에 A,B,C 지점의 년간 데이터를 사용해서 월별로 통계량을 엑셀에 작성해 보자."
   ]
  },
  {
   "cell_type": "code",
   "execution_count": 52,
   "metadata": {},
   "outputs": [
    {
     "data": {
      "text/html": [
       "<div>\n",
       "<style scoped>\n",
       "    .dataframe tbody tr th:only-of-type {\n",
       "        vertical-align: middle;\n",
       "    }\n",
       "\n",
       "    .dataframe tbody tr th {\n",
       "        vertical-align: top;\n",
       "    }\n",
       "\n",
       "    .dataframe thead th {\n",
       "        text-align: right;\n",
       "    }\n",
       "</style>\n",
       "<table border=\"1\" class=\"dataframe\">\n",
       "  <thead>\n",
       "    <tr style=\"text-align: right;\">\n",
       "      <th></th>\n",
       "      <th>날짜</th>\n",
       "      <th>A지점</th>\n",
       "      <th>B지점</th>\n",
       "      <th>C지점</th>\n",
       "    </tr>\n",
       "  </thead>\n",
       "  <tbody>\n",
       "    <tr>\n",
       "      <th>0</th>\n",
       "      <td>2019-01-01</td>\n",
       "      <td>239.0</td>\n",
       "      <td>249.0</td>\n",
       "      <td>269.0</td>\n",
       "    </tr>\n",
       "    <tr>\n",
       "      <th>1</th>\n",
       "      <td>2019-01-02</td>\n",
       "      <td>249.0</td>\n",
       "      <td>264.0</td>\n",
       "      <td>268.0</td>\n",
       "    </tr>\n",
       "    <tr>\n",
       "      <th>2</th>\n",
       "      <td>2019-01-03</td>\n",
       "      <td>237.0</td>\n",
       "      <td>250.0</td>\n",
       "      <td>268.0</td>\n",
       "    </tr>\n",
       "    <tr>\n",
       "      <th>3</th>\n",
       "      <td>2019-01-04</td>\n",
       "      <td>252.0</td>\n",
       "      <td>260.0</td>\n",
       "      <td>273.0</td>\n",
       "    </tr>\n",
       "    <tr>\n",
       "      <th>4</th>\n",
       "      <td>2019-01-07</td>\n",
       "      <td>252.0</td>\n",
       "      <td>260.0</td>\n",
       "      <td>269.0</td>\n",
       "    </tr>\n",
       "    <tr>\n",
       "      <th>...</th>\n",
       "      <td>...</td>\n",
       "      <td>...</td>\n",
       "      <td>...</td>\n",
       "      <td>...</td>\n",
       "    </tr>\n",
       "    <tr>\n",
       "      <th>256</th>\n",
       "      <td>2019-12-25</td>\n",
       "      <td>255.0</td>\n",
       "      <td>273.0</td>\n",
       "      <td>264.0</td>\n",
       "    </tr>\n",
       "    <tr>\n",
       "      <th>257</th>\n",
       "      <td>2019-12-26</td>\n",
       "      <td>254.0</td>\n",
       "      <td>263.0</td>\n",
       "      <td>260.0</td>\n",
       "    </tr>\n",
       "    <tr>\n",
       "      <th>258</th>\n",
       "      <td>2019-12-27</td>\n",
       "      <td>273.0</td>\n",
       "      <td>253.0</td>\n",
       "      <td>261.0</td>\n",
       "    </tr>\n",
       "    <tr>\n",
       "      <th>259</th>\n",
       "      <td>2019-12-30</td>\n",
       "      <td>243.0</td>\n",
       "      <td>260.0</td>\n",
       "      <td>263.0</td>\n",
       "    </tr>\n",
       "    <tr>\n",
       "      <th>260</th>\n",
       "      <td>2019-12-31</td>\n",
       "      <td>254.0</td>\n",
       "      <td>251.0</td>\n",
       "      <td>277.0</td>\n",
       "    </tr>\n",
       "  </tbody>\n",
       "</table>\n",
       "<p>261 rows × 4 columns</p>\n",
       "</div>"
      ],
      "text/plain": [
       "             날짜    A지점    B지점    C지점\n",
       "0    2019-01-01  239.0  249.0  269.0\n",
       "1    2019-01-02  249.0  264.0  268.0\n",
       "2    2019-01-03  237.0  250.0  268.0\n",
       "3    2019-01-04  252.0  260.0  273.0\n",
       "4    2019-01-07  252.0  260.0  269.0\n",
       "..          ...    ...    ...    ...\n",
       "256  2019-12-25  255.0  273.0  264.0\n",
       "257  2019-12-26  254.0  263.0  260.0\n",
       "258  2019-12-27  273.0  253.0  261.0\n",
       "259  2019-12-30  243.0  260.0  263.0\n",
       "260  2019-12-31  254.0  251.0  277.0\n",
       "\n",
       "[261 rows x 4 columns]"
      ]
     },
     "execution_count": 52,
     "metadata": {},
     "output_type": "execute_result"
    }
   ],
   "source": [
    "import pandas as pd\n",
    "\n",
    "#  데이터 파일의 전체 경로\n",
    "csv_file = 'data/지점별_판매량-2019년.csv' \n",
    "\n",
    "# CSV 파일 읽기, CSV 파일의 '날짜' 열을 DataFrame 데이터의 index로 지정\n",
    "df = pd.read_csv(csv_file)\n",
    "\n",
    "# DataFrame 데이터 출력\n",
    "df"
   ]
  },
  {
   "cell_type": "code",
   "execution_count": 53,
   "metadata": {},
   "outputs": [
    {
     "name": "stdout",
     "output_type": "stream",
     "text": [
      "<class 'pandas.core.frame.DataFrame'>\n",
      "RangeIndex: 261 entries, 0 to 260\n",
      "Data columns (total 4 columns):\n",
      " #   Column  Non-Null Count  Dtype  \n",
      "---  ------  --------------  -----  \n",
      " 0   날짜      261 non-null    object \n",
      " 1   A지점     261 non-null    float64\n",
      " 2   B지점     261 non-null    float64\n",
      " 3   C지점     261 non-null    float64\n",
      "dtypes: float64(3), object(1)\n",
      "memory usage: 8.3+ KB\n"
     ]
    }
   ],
   "source": [
    "df.info()"
   ]
  },
  {
   "cell_type": "markdown",
   "metadata": {},
   "source": [
    "날짜 형식"
   ]
  },
  {
   "cell_type": "code",
   "execution_count": 54,
   "metadata": {},
   "outputs": [
    {
     "name": "stdout",
     "output_type": "stream",
     "text": [
      "<class 'pandas.core.frame.DataFrame'>\n",
      "RangeIndex: 261 entries, 0 to 260\n",
      "Data columns (total 4 columns):\n",
      " #   Column  Non-Null Count  Dtype         \n",
      "---  ------  --------------  -----         \n",
      " 0   날짜      261 non-null    datetime64[ns]\n",
      " 1   A지점     261 non-null    float64       \n",
      " 2   B지점     261 non-null    float64       \n",
      " 3   C지점     261 non-null    float64       \n",
      "dtypes: datetime64[ns](1), float64(3)\n",
      "memory usage: 8.3 KB\n"
     ]
    }
   ],
   "source": [
    "df['날짜'] = pd.to_datetime(df['날짜']) \n",
    "df.info()"
   ]
  },
  {
   "cell_type": "markdown",
   "metadata": {},
   "source": [
    "월별 freq=M 로 그룹으로 묶고 월별로 리스트에 담아 다루어 보자."
   ]
  },
  {
   "cell_type": "code",
   "execution_count": 55,
   "metadata": {},
   "outputs": [
    {
     "data": {
      "text/html": [
       "<div>\n",
       "<style scoped>\n",
       "    .dataframe tbody tr th:only-of-type {\n",
       "        vertical-align: middle;\n",
       "    }\n",
       "\n",
       "    .dataframe tbody tr th {\n",
       "        vertical-align: top;\n",
       "    }\n",
       "\n",
       "    .dataframe thead th {\n",
       "        text-align: right;\n",
       "    }\n",
       "</style>\n",
       "<table border=\"1\" class=\"dataframe\">\n",
       "  <thead>\n",
       "    <tr style=\"text-align: right;\">\n",
       "      <th></th>\n",
       "      <th>날짜</th>\n",
       "      <th>A지점</th>\n",
       "      <th>B지점</th>\n",
       "      <th>C지점</th>\n",
       "    </tr>\n",
       "  </thead>\n",
       "  <tbody>\n",
       "    <tr>\n",
       "      <th>0</th>\n",
       "      <td>2019-01-01</td>\n",
       "      <td>239.0</td>\n",
       "      <td>249.0</td>\n",
       "      <td>269.0</td>\n",
       "    </tr>\n",
       "    <tr>\n",
       "      <th>1</th>\n",
       "      <td>2019-01-02</td>\n",
       "      <td>249.0</td>\n",
       "      <td>264.0</td>\n",
       "      <td>268.0</td>\n",
       "    </tr>\n",
       "    <tr>\n",
       "      <th>2</th>\n",
       "      <td>2019-01-03</td>\n",
       "      <td>237.0</td>\n",
       "      <td>250.0</td>\n",
       "      <td>268.0</td>\n",
       "    </tr>\n",
       "    <tr>\n",
       "      <th>3</th>\n",
       "      <td>2019-01-04</td>\n",
       "      <td>252.0</td>\n",
       "      <td>260.0</td>\n",
       "      <td>273.0</td>\n",
       "    </tr>\n",
       "    <tr>\n",
       "      <th>4</th>\n",
       "      <td>2019-01-07</td>\n",
       "      <td>252.0</td>\n",
       "      <td>260.0</td>\n",
       "      <td>269.0</td>\n",
       "    </tr>\n",
       "  </tbody>\n",
       "</table>\n",
       "</div>"
      ],
      "text/plain": [
       "          날짜    A지점    B지점    C지점\n",
       "0 2019-01-01  239.0  249.0  269.0\n",
       "1 2019-01-02  249.0  264.0  268.0\n",
       "2 2019-01-03  237.0  250.0  268.0\n",
       "3 2019-01-04  252.0  260.0  273.0\n",
       "4 2019-01-07  252.0  260.0  269.0"
      ]
     },
     "execution_count": 55,
     "metadata": {},
     "output_type": "execute_result"
    }
   ],
   "source": [
    "df_months = [group for name, group in df.groupby(pd.Grouper(key='날짜',freq='M'))]\n",
    "df_months[0].head() # 1월 데이터 일부를 출력"
   ]
  },
  {
   "cell_type": "markdown",
   "metadata": {},
   "source": [
    "다음은 12월의 데이터이다."
   ]
  },
  {
   "cell_type": "code",
   "execution_count": 59,
   "metadata": {},
   "outputs": [
    {
     "data": {
      "text/html": [
       "<div>\n",
       "<style scoped>\n",
       "    .dataframe tbody tr th:only-of-type {\n",
       "        vertical-align: middle;\n",
       "    }\n",
       "\n",
       "    .dataframe tbody tr th {\n",
       "        vertical-align: top;\n",
       "    }\n",
       "\n",
       "    .dataframe thead th {\n",
       "        text-align: right;\n",
       "    }\n",
       "</style>\n",
       "<table border=\"1\" class=\"dataframe\">\n",
       "  <thead>\n",
       "    <tr style=\"text-align: right;\">\n",
       "      <th></th>\n",
       "      <th>날짜</th>\n",
       "      <th>A지점</th>\n",
       "      <th>B지점</th>\n",
       "      <th>C지점</th>\n",
       "    </tr>\n",
       "  </thead>\n",
       "  <tbody>\n",
       "    <tr>\n",
       "      <th>239</th>\n",
       "      <td>2019-12-02</td>\n",
       "      <td>253.0</td>\n",
       "      <td>253.0</td>\n",
       "      <td>268.0</td>\n",
       "    </tr>\n",
       "    <tr>\n",
       "      <th>240</th>\n",
       "      <td>2019-12-03</td>\n",
       "      <td>256.0</td>\n",
       "      <td>258.0</td>\n",
       "      <td>268.0</td>\n",
       "    </tr>\n",
       "    <tr>\n",
       "      <th>241</th>\n",
       "      <td>2019-12-04</td>\n",
       "      <td>250.0</td>\n",
       "      <td>260.0</td>\n",
       "      <td>273.0</td>\n",
       "    </tr>\n",
       "    <tr>\n",
       "      <th>242</th>\n",
       "      <td>2019-12-05</td>\n",
       "      <td>238.0</td>\n",
       "      <td>259.0</td>\n",
       "      <td>271.0</td>\n",
       "    </tr>\n",
       "    <tr>\n",
       "      <th>243</th>\n",
       "      <td>2019-12-06</td>\n",
       "      <td>244.0</td>\n",
       "      <td>262.0</td>\n",
       "      <td>275.0</td>\n",
       "    </tr>\n",
       "  </tbody>\n",
       "</table>\n",
       "</div>"
      ],
      "text/plain": [
       "            날짜    A지점    B지점    C지점\n",
       "239 2019-12-02  253.0  253.0  268.0\n",
       "240 2019-12-03  256.0  258.0  268.0\n",
       "241 2019-12-04  250.0  260.0  273.0\n",
       "242 2019-12-05  238.0  259.0  271.0\n",
       "243 2019-12-06  244.0  262.0  275.0"
      ]
     },
     "execution_count": 59,
     "metadata": {},
     "output_type": "execute_result"
    }
   ],
   "source": [
    "df_months[11].head()"
   ]
  },
  {
   "cell_type": "markdown",
   "metadata": {},
   "source": [
    "월별 데이터를 가지고 기본 통계량을 사용해 보자."
   ]
  },
  {
   "cell_type": "markdown",
   "metadata": {},
   "source": []
  },
  {
   "cell_type": "code",
   "execution_count": 62,
   "metadata": {},
   "outputs": [],
   "source": [
    "import pandas as pd\n",
    "import matplotlib\n",
    "import matplotlib.pyplot as plt\n",
    "\n",
    "# 한글 폰트를 위한 설정\n",
    "matplotlib.rcParams['font.family'] = 'Malgun Gothic'\n",
    "matplotlib.rcParams['axes.unicode_minus'] = False\n",
    "\n",
    "        \n",
    "# 월별 데이터, 기본 통계량, 박스 그래프를 셀 파일에 쓰는 함수\n",
    "# 입력 인수: 엑셀 파일 경로, DataFrame 데이터 리스트\n",
    "# 반환: 없음\n",
    "def write_stat_data_box_plot_to_excel_sheet(write_excel_file, df_months):\n",
    "    # 쓰기 엔진을 xlsxwriter로 지정해 판다스의 ExcelWriter 객체 생성\n",
    "    excel_writer = pd.ExcelWriter(write_excel_file, engine='xlsxwriter') \n",
    "\n",
    "    for month_num, df_month in enumerate(df_months): # 월별로 수행\n",
    "        # 기본 통계량 구하기\n",
    "        df_month_stat = df_month.describe()\n",
    "        \n",
    "        # 시트 이름 생성\n",
    "        sheet = \"{0:2d}월\".format(month_num + 1)\n",
    "        \n",
    "        # '날짜'열을 datetime 형식에서 문자열로 변환\n",
    "        df_month['날짜'] = df_month['날짜'].astype(str) \n",
    "        \n",
    "        # DataFrame 데이터의 '날짜'열을 index로 지정\n",
    "        df_month = df_month.set_index(['날짜']) \n",
    "        \n",
    "        # DataFrame 데이터를 생성한 엑셀 객체에 쓰기(시트이름을 지정)       \n",
    "        df_month.to_excel(excel_writer, sheet_name = sheet) # index를 포함\n",
    "\n",
    "        # 워크시트에 위치를 지정해 기본 통계량 데이터(df_month_stat) 쓰기\n",
    "        row = 0 # 행 위치\n",
    "        col = len(df_month.columns) + 2  # 열 위치\n",
    "        df_month_stat.to_excel(excel_writer, sheet_name=sheet,\n",
    "                               startrow=row, startcol=col)\n",
    "        \n",
    "        # ------ 박스 그래프 그리고 이미지 파일로 저장하기 --------------\n",
    "        ax = df_month.plot.box(y=[\"A지점\", \"B지점\", \"C지점\"], \n",
    "                               showmeans=True) # 박스 그래프\n",
    "        ax.set_ylabel(\"일일 판매량\", fontsize=15)  # y 라벨 추가\n",
    "        ax.set_title(\"지점별 일일 판매량 분포\", fontsize=20) # 그래프 제목 추가\n",
    "\n",
    "        # 박스 그래프의 이미지 파일 경로\n",
    "        image_file = \"data/지점별_일일_판매량_분포_{0:02d}월.png\".format(month_num + 1) \n",
    "\n",
    "        plt.savefig(image_file, dpi=300) # 그래프를 이미지 파일로 저장\n",
    "        plt.close() # 화면에 그래프를 표시하지 않고 닫기\n",
    "        # ----------------------------------------------------------------\n",
    "        \n",
    "        # 생성한 ExcelWriter 객체(excel_writer)를 이용해 워크시트 객체 생성\n",
    "        worksheet = excel_writer.sheets[sheet]\n",
    "\n",
    "        # 워크시트 객체(worksheet)에 이미지가 들어갈 위치를 지정해 이미지 넣기\n",
    "        row = len(df_month_stat.index) + 2  # 행 위치\n",
    "        col = len(df_month.columns) + 2  # 열 위치\n",
    "        worksheet.insert_image(row, col, image_file, \n",
    "                               {'x_scale': 0.6, 'y_scale': 0.6})\n",
    "\n",
    "    # 객체를 닫고 엑셀 파일로 저장\n",
    "    excel_writer.save()"
   ]
  },
  {
   "cell_type": "markdown",
   "metadata": {},
   "source": [
    "이제 연간 데이터 파일을 "
   ]
  },
  {
   "cell_type": "code",
   "execution_count": 63,
   "metadata": {},
   "outputs": [
    {
     "name": "stdout",
     "output_type": "stream",
     "text": [
      "생성 파일: data/지점별_일일_판매량_기본통계량_박스그래프-2019년.xlsx\n"
     ]
    }
   ],
   "source": [
    "# 데이터 파일에서 DataFrame 데이터 가져오기\n",
    "csv_file = 'data/지점별_판매량-2019년.csv' \n",
    "df = pd.read_csv(csv_file)\n",
    "\n",
    "# DataFrame 데이터 중 '날짜'열의 데이터 타입을 datetime 형식으로 변환\n",
    "df['날짜']= pd.to_datetime(df['날짜']) \n",
    "\n",
    "# 월별로 DataFrame 데이터 묶기(그룹핑)\n",
    "df_months = [group for name, group in df.groupby(pd.Grouper(key='날짜',freq='M'))]\n",
    "\n",
    "# 저장할 엑셀 파일 경로\n",
    "excel_file = 'data/지점별_일일_판매량_기본통계량_박스그래프-2019년.xlsx' \n",
    "\n",
    "# DataFrame 데이터, 기본 통계량, 박스 그래프를 엑셀 파일에 쓰는 함수 호출\n",
    "write_stat_data_box_plot_to_excel_sheet(excel_file, df_months)\n",
    "\n",
    "print(\"생성 파일:\", excel_file) # 생성한 파일 이름 출력"
   ]
  },
  {
   "cell_type": "markdown",
   "metadata": {},
   "source": [
    "# 2. 통계 데이터 분석 심화\n",
    "\n",
    "보통 날씨가 더우면 아이스 아메리카노가 많이 팔릴 것이다. 유동 인구가 많은 지역 건물 임대료는 그렇지 않은 지역에 비해 높을 것이다. 온도와 커피의 관계, 유동 인구와 임대료의 관계 등 특정 변수 사이의 관계는 경험을 통해 알수 있지만 통계 기법으로 어떤 관계인지 분석해 보자."
   ]
  },
  {
   "cell_type": "markdown",
   "metadata": {},
   "source": [
    "### 상관 분석\n",
    "\n",
    "기술적으로 2개의 변수가 있을 때 이 둘이 선형적으로 어떤 관계를 갖는지 파악하는 것이 상관분석이다. 두 데이터의 관계성을 나타내는 것이 **공분산**과 **상관관계**이다.  여기서 먼저 분산과 비슷한 공분산을 살펴보자.\n",
    "\n"
   ]
  },
  {
   "cell_type": "markdown",
   "metadata": {},
   "source": [
    "### 공분산(Covariance, Commaon Variance)\n",
    "\n",
    "분산은 한 변수가 평균에서 얼마나 떨어져 있는지를 살펴본다. 공분산은 ***두 변수가 각각의 평균에서 얼마나 떨어져 있나*** 를 살펴본다. 아래 같이 계산한다."
   ]
  },
  {
   "cell_type": "code",
   "execution_count": 64,
   "metadata": {},
   "outputs": [],
   "source": [
    "# 공분산 함수\n",
    "def covariance(x, y):\n",
    "    n = len(x)\n",
    "    return dot(de_mean(x), de_mean(y)) / (n-1)"
   ]
  },
  {
   "cell_type": "markdown",
   "metadata": {},
   "source": [
    "그래서 공분산이 양수 이면 x값이 클수록 y 값이 크고, x 값이 작을 수록 y 값도 작다. 반대로 음수이면 x값이 클수록 y값이 작고, x값이 작을 수록 y값이 크다는 의이미다. 공분산이 0이면 그와 같은 관계가 성립하지 않는다는 의미이다.\n",
    "\n",
    "그런데 공분산 계산 결과는 공분산 단위가 데이터 요소들을 곱해서 계산하므로 이해하기 쉽진 않다. \n",
    "\n",
    "예를 들어 `친구 수 X 하루 사용량(분)` 이라는 단위는 어떤 의미인가?\n",
    "\n",
    "그러므로 모든 사용자의 하루 사용량은 변하지 않고 친구 수만 두 배로 증가한다면 공분산 또한 두 배로 증가할 것이다 하지만 두 변수의 상관관계는 변하지 않는다. 이것은 값이 커진다고 공분산이 크다고 판단하기 어렵게 한다.  \n",
    "\n",
    "관계를 상관계수(correlation coefficient) 를 통해 파악할 수 있다.\n",
    "\n",
    "\n",
    "이런 이유로 공분산에서 표준편차를 나눠 준 상관관계를 더 자주 살펴본다.  두 데이터 사이의 관계의 특성과 강도를 알려주는 통계 측정값으로 피어슨 상관계수가 있다.  상관계수를 구하는 여러 방법이 있다. 일반적으로 상관계수라고 하면 피어슨 상관계수를 말한다."
   ]
  },
  {
   "cell_type": "markdown",
   "metadata": {},
   "source": [
    "\n",
    "### 피어슨 상관계수(Pearson's product-moment correlation coefficent)\n",
    "\n",
    "피어슨 상관계수는 연속형 변수 2개의 상관 관계를 확인하는 방법이다. 두 개의 수치값 집합에서 수치값 각각의 순서쌍에 대해 연결 관계가 있다고 할 때 관련성을 확인하는 것이다.\n",
    "\n",
    "예를 들어 고등학교 한 학급에 50명이 있고 국어, 영어, 수학, 과학 시험을 치른 결과가 있을때, 이 중에서 과학과 수학 과목의 성적이 서로 관련있는지 파악할 수 있다.\n",
    "\n",
    "또한 *사용자가 사이트에서 보낸 시간과 소셜 친구수 사이의 연관성* 같은 가설을 검증할 수 있다.\n",
    "\n",
    "피어슨 상관계수는 정규분포에서 가장 잘 작동하도록 설계되어 있다.\n",
    "\n",
    "- [상관관계](http://intothedata.com/02.scholar_category/statistics/correlation/) 참조.\n"
   ]
  },
  {
   "cell_type": "markdown",
   "metadata": {},
   "source": [
    "### 상관계수 계산\n",
    "\n",
    "상관계수 Correlation 공식다음 같다. 요소 개수가 N인 두 모집단 집합 x, y 에 대해서 피어슨 상관계수 $\\rho_{xy}$ 식은 아래 같다.\n",
    "$$\n",
    "\\rho_{xy} = \\frac{\\sigma_{xy}}{\\sigma_x \\sigma_y}\n",
    "$$\n",
    "\n",
    "- $\\rho_{xy}$ : 모공분산 (population covariance)  \n",
    "- $\\sigma_x, \\sigma_y$ : 각 모집단 x, y의 모표준편차"
   ]
  },
  {
   "cell_type": "markdown",
   "metadata": {},
   "source": [
    "모 공분산 $\\sigma_{xy}$ 는 다음 같다\n",
    "\n",
    "$$\n",
    "\\sigma_{xy} = \\frac{1}{N} \\sum_{i=1}^{N} (x_i - \\mu_{x})(y_i - \\mu_{y}) \n",
    "$$\n",
    "\n",
    "- $\\mu_{x}, \\mu_{y}$ : x,y 의 평균"
   ]
  },
  {
   "cell_type": "markdown",
   "metadata": {},
   "source": [
    "요소 개수가 n인 표본 데이터 집합 x, y 에 대한 표본의 피어슨 상관계수 $r_{xy}$ 식은 아래 같다.\n",
    "$$\n",
    "r_{xy} = \\frac{S_{xy}}{S_x S_y}\n",
    "$$\n",
    "\n",
    " - $S_{xy}$ : 표본 공분산 Sample Covariance\n",
    " - $S_x, S_y $: 표본 x,y의 표본 표준편차\n",
    "\n",
    "표본 공분산 $S_{xy}$ 는 다음 같다\n",
    "\n",
    "$$\n",
    "S_{xy} = \\frac{1}{n-1} \\sum_{i=1}^{n} (x_i - \\bar{x})(y_i - \\bar{y}) \n",
    "$$\n",
    "\n",
    "- $\\bar{x}, \\bar{y}$ : x,y 의 평균"
   ]
  },
  {
   "cell_type": "markdown",
   "metadata": {},
   "source": [
    "### 상관 관계의 측정 상관계수\n",
    "\n",
    "상관계수는 *-1.0~1.0* 사이의 값을 갖으며, 0에 가까울 수 록 관계가 없음을 1에 가까울 수록 강한 양의 관계를 표현한다.\n",
    "\n",
    "\n",
    " - 상관계수가 0이면 두 집단간 선형 관계가 없다는 의미이다. \n",
    "     - 그렇다고 서로 독립적이라는 의미는 아니다\n",
    "     - 둘 사이 비선형 관계가 있을 수 있다.\n",
    " - 1이거나 1에 가까우면 강한 양의 선형 관계가 있음을 의미하고, \n",
    "     - 1이면 완전한 양의 상관관계이다.\n",
    " - -1이거나 -1에 가까우면 강한 음의 관계가 있고\n",
    "     - -1은 완전한 음의 상관관계이다.\n",
    "\n",
    "\n",
    "**[상관 계수에 대한 주요 결과 해석](https://support.minitab.com/ko-kr/minitab/18/help-and-how-to/statistics/basic-statistics/how-to/correlation/interpret-the-results/key-results/)**\n",
    "\n",
    "- 강도:\n",
    "    상관 계수 값의 범위는 −1부터 +1까지로, 계수의 절대값이 클수록 변수 사이에 강한 관계가 있습니다. Pearson 상관의 경우 절대값 1은 완전한 선형 관계를 나타냅니다. 0에 가까운 상관 값은 변수 사이에 선형 관계가 없음을 나타냅니다.\n",
    "- 방향:\n",
    "    계수의 부호는 관계의 방향을 나타냅니다. 두 변수가 함께 증가하거나 감소하는 경향이 있으면 계수가 양수이며, 상관을 나타내는 선이 위쪽 방향으로 기울어집니다. 한 변수가 증가할 때 다른 변수는 감소하는 경향이 있으면 계수는 음수이며, 상관을 나타내는 선이 아래쪽 방향으로 기울어집니다.\n",
    "    \n",
    "\n",
    "> 또한 두 집단 사이의 비선형 상관계수를 측정하는 방법도 있지만 여기서는 다루지 않는다.\n",
    "\n"
   ]
  },
  {
   "attachments": {
    "cdce9155-d0fe-4a6e-9f53-30cd06c157fd.png": {
     "image/png": "[encoded data removed]"
    }
   },
   "cell_type": "markdown",
   "metadata": {},
   "source": [
    "이런 상관계수를 산점도로 보면\n",
    "\n",
    "![image.png](attachment:cdce9155-d0fe-4a6e-9f53-30cd06c157fd.png)\n",
    "\n"
   ]
  },
  {
   "cell_type": "markdown",
   "metadata": {},
   "source": [
    "## 판매량 상관분석"
   ]
  },
  {
   "cell_type": "code",
   "execution_count": 66,
   "metadata": {
    "scrolled": true
   },
   "outputs": [
    {
     "data": {
      "text/html": [
       "<div>\n",
       "<style scoped>\n",
       "    .dataframe tbody tr th:only-of-type {\n",
       "        vertical-align: middle;\n",
       "    }\n",
       "\n",
       "    .dataframe tbody tr th {\n",
       "        vertical-align: top;\n",
       "    }\n",
       "\n",
       "    .dataframe thead th {\n",
       "        text-align: right;\n",
       "    }\n",
       "</style>\n",
       "<table border=\"1\" class=\"dataframe\">\n",
       "  <thead>\n",
       "    <tr style=\"text-align: right;\">\n",
       "      <th></th>\n",
       "      <th>기온</th>\n",
       "      <th>아이스커피판매량</th>\n",
       "    </tr>\n",
       "  </thead>\n",
       "  <tbody>\n",
       "    <tr>\n",
       "      <th>0</th>\n",
       "      <td>14.3</td>\n",
       "      <td>90</td>\n",
       "    </tr>\n",
       "    <tr>\n",
       "      <th>1</th>\n",
       "      <td>16.2</td>\n",
       "      <td>113</td>\n",
       "    </tr>\n",
       "    <tr>\n",
       "      <th>2</th>\n",
       "      <td>18.6</td>\n",
       "      <td>109</td>\n",
       "    </tr>\n",
       "    <tr>\n",
       "      <th>3</th>\n",
       "      <td>20.3</td>\n",
       "      <td>120</td>\n",
       "    </tr>\n",
       "    <tr>\n",
       "      <th>4</th>\n",
       "      <td>22.5</td>\n",
       "      <td>125</td>\n",
       "    </tr>\n",
       "  </tbody>\n",
       "</table>\n",
       "</div>"
      ],
      "text/plain": [
       "     기온  아이스커피판매량\n",
       "0  14.3        90\n",
       "1  16.2       113\n",
       "2  18.6       109\n",
       "3  20.3       120\n",
       "4  22.5       125"
      ]
     },
     "execution_count": 66,
     "metadata": {},
     "output_type": "execute_result"
    }
   ],
   "source": [
    "import pandas as pd\n",
    "\n",
    "#  데이터 파일의 전체 경로\n",
    "csv_file ='data/아이스크림판매량_기온.csv'\n",
    "\n",
    "# CSV 파일 읽기\n",
    "df = pd.read_csv(csv_file)\n",
    "\n",
    "# DataFrame 데이터 출력\n",
    "df.head()"
   ]
  },
  {
   "cell_type": "code",
   "execution_count": 67,
   "metadata": {},
   "outputs": [
    {
     "data": {
      "image/png": "[encoded data removed]",
      "text/plain": [
       "<Figure size 432x288 with 1 Axes>"
      ]
     },
     "metadata": {
      "needs_background": "light"
     },
     "output_type": "display_data"
    }
   ],
   "source": [
    "ax_scatter = df.plot.scatter(x='기온', y='아이스커피판매량', grid=True)\n",
    "\n",
    "ax_scatter.set_xlabel(\"기온 (섭씨)\", fontsize=15)\n",
    "ax_scatter.set_ylabel(\"아이스 커피 판매량\", fontsize=15)\n",
    "ax_scatter.set_title(\"기온별 아이스 커피 판매량\", fontsize=20)\n",
    "\n",
    "plt.show()"
   ]
  },
  {
   "cell_type": "markdown",
   "metadata": {},
   "source": [
    "모든 변수에 대한 상관계수를 구해보자, 데이터프레임은 상관행렬로 반환한다."
   ]
  },
  {
   "cell_type": "code",
   "execution_count": 68,
   "metadata": {},
   "outputs": [
    {
     "data": {
      "text/html": [
       "<div>\n",
       "<style scoped>\n",
       "    .dataframe tbody tr th:only-of-type {\n",
       "        vertical-align: middle;\n",
       "    }\n",
       "\n",
       "    .dataframe tbody tr th {\n",
       "        vertical-align: top;\n",
       "    }\n",
       "\n",
       "    .dataframe thead th {\n",
       "        text-align: right;\n",
       "    }\n",
       "</style>\n",
       "<table border=\"1\" class=\"dataframe\">\n",
       "  <thead>\n",
       "    <tr style=\"text-align: right;\">\n",
       "      <th></th>\n",
       "      <th>기온</th>\n",
       "      <th>아이스커피판매량</th>\n",
       "    </tr>\n",
       "  </thead>\n",
       "  <tbody>\n",
       "    <tr>\n",
       "      <th>기온</th>\n",
       "      <td>1.000000</td>\n",
       "      <td>0.982405</td>\n",
       "    </tr>\n",
       "    <tr>\n",
       "      <th>아이스커피판매량</th>\n",
       "      <td>0.982405</td>\n",
       "      <td>1.000000</td>\n",
       "    </tr>\n",
       "  </tbody>\n",
       "</table>\n",
       "</div>"
      ],
      "text/plain": [
       "                기온  아이스커피판매량\n",
       "기온        1.000000  0.982405\n",
       "아이스커피판매량  0.982405  1.000000"
      ]
     },
     "execution_count": 68,
     "metadata": {},
     "output_type": "execute_result"
    }
   ],
   "source": [
    "df.corr() # DataFrma 데이터(df)의 상관 계수 구하기"
   ]
  },
  {
   "cell_type": "markdown",
   "metadata": {},
   "source": [
    "### 여러 변수 사이의 상관관계 분석"
   ]
  },
  {
   "cell_type": "code",
   "execution_count": 77,
   "metadata": {
    "scrolled": true
   },
   "outputs": [],
   "source": [
    "from sklearn.datasets import load_iris\n",
    "iris = load_iris()"
   ]
  },
  {
   "cell_type": "code",
   "execution_count": 79,
   "metadata": {},
   "outputs": [
    {
     "data": {
      "text/html": [
       "<div>\n",
       "<style scoped>\n",
       "    .dataframe tbody tr th:only-of-type {\n",
       "        vertical-align: middle;\n",
       "    }\n",
       "\n",
       "    .dataframe tbody tr th {\n",
       "        vertical-align: top;\n",
       "    }\n",
       "\n",
       "    .dataframe thead th {\n",
       "        text-align: right;\n",
       "    }\n",
       "</style>\n",
       "<table border=\"1\" class=\"dataframe\">\n",
       "  <thead>\n",
       "    <tr style=\"text-align: right;\">\n",
       "      <th></th>\n",
       "      <th>sepal length (cm)</th>\n",
       "      <th>sepal width (cm)</th>\n",
       "      <th>petal length (cm)</th>\n",
       "      <th>petal width (cm)</th>\n",
       "    </tr>\n",
       "  </thead>\n",
       "  <tbody>\n",
       "    <tr>\n",
       "      <th>0</th>\n",
       "      <td>5.1</td>\n",
       "      <td>3.5</td>\n",
       "      <td>1.4</td>\n",
       "      <td>0.2</td>\n",
       "    </tr>\n",
       "    <tr>\n",
       "      <th>1</th>\n",
       "      <td>4.9</td>\n",
       "      <td>3.0</td>\n",
       "      <td>1.4</td>\n",
       "      <td>0.2</td>\n",
       "    </tr>\n",
       "    <tr>\n",
       "      <th>2</th>\n",
       "      <td>4.7</td>\n",
       "      <td>3.2</td>\n",
       "      <td>1.3</td>\n",
       "      <td>0.2</td>\n",
       "    </tr>\n",
       "    <tr>\n",
       "      <th>3</th>\n",
       "      <td>4.6</td>\n",
       "      <td>3.1</td>\n",
       "      <td>1.5</td>\n",
       "      <td>0.2</td>\n",
       "    </tr>\n",
       "    <tr>\n",
       "      <th>4</th>\n",
       "      <td>5.0</td>\n",
       "      <td>3.6</td>\n",
       "      <td>1.4</td>\n",
       "      <td>0.2</td>\n",
       "    </tr>\n",
       "  </tbody>\n",
       "</table>\n",
       "</div>"
      ],
      "text/plain": [
       "   sepal length (cm)  sepal width (cm)  petal length (cm)  petal width (cm)\n",
       "0                5.1               3.5                1.4               0.2\n",
       "1                4.9               3.0                1.4               0.2\n",
       "2                4.7               3.2                1.3               0.2\n",
       "3                4.6               3.1                1.5               0.2\n",
       "4                5.0               3.6                1.4               0.2"
      ]
     },
     "execution_count": 79,
     "metadata": {},
     "output_type": "execute_result"
    }
   ],
   "source": [
    "df = pd.DataFrame(iris.data,\n",
    "                  columns=iris.feature_names)\n",
    "df.head()"
   ]
  },
  {
   "cell_type": "markdown",
   "metadata": {},
   "source": [
    "산점도와 히스토그람을 한번에 그릴 수 있는 scatter_matrix() 를 사용해 보ㅓ자."
   ]
  },
  {
   "cell_type": "code",
   "execution_count": 80,
   "metadata": {},
   "outputs": [
    {
     "data": {
      "image/png": "[encoded data removed]",
      "text/plain": [
       "<Figure size 576x576 with 16 Axes>"
      ]
     },
     "metadata": {
      "needs_background": "light"
     },
     "output_type": "display_data"
    }
   ],
   "source": [
    "from pandas.plotting import scatter_matrix\n",
    "\n",
    "# (alpha 옵션은 0~1 사이의 실수로 지정)\n",
    "scatter_matrix(df, alpha=1, figsize=(8, 8)) \n",
    "plt.show()"
   ]
  },
  {
   "cell_type": "markdown",
   "metadata": {},
   "source": [
    "결과를 보면 peta_length와 petal_width 가 양의 상관관계를 갖는 것으로 보인다. 상관계수를 출력해 보자."
   ]
  },
  {
   "cell_type": "code",
   "execution_count": 81,
   "metadata": {},
   "outputs": [
    {
     "data": {
      "text/html": [
       "<div>\n",
       "<style scoped>\n",
       "    .dataframe tbody tr th:only-of-type {\n",
       "        vertical-align: middle;\n",
       "    }\n",
       "\n",
       "    .dataframe tbody tr th {\n",
       "        vertical-align: top;\n",
       "    }\n",
       "\n",
       "    .dataframe thead th {\n",
       "        text-align: right;\n",
       "    }\n",
       "</style>\n",
       "<table border=\"1\" class=\"dataframe\">\n",
       "  <thead>\n",
       "    <tr style=\"text-align: right;\">\n",
       "      <th></th>\n",
       "      <th>sepal length (cm)</th>\n",
       "      <th>sepal width (cm)</th>\n",
       "      <th>petal length (cm)</th>\n",
       "      <th>petal width (cm)</th>\n",
       "    </tr>\n",
       "  </thead>\n",
       "  <tbody>\n",
       "    <tr>\n",
       "      <th>sepal length (cm)</th>\n",
       "      <td>1.000000</td>\n",
       "      <td>-0.117570</td>\n",
       "      <td>0.871754</td>\n",
       "      <td>0.817941</td>\n",
       "    </tr>\n",
       "    <tr>\n",
       "      <th>sepal width (cm)</th>\n",
       "      <td>-0.117570</td>\n",
       "      <td>1.000000</td>\n",
       "      <td>-0.428440</td>\n",
       "      <td>-0.366126</td>\n",
       "    </tr>\n",
       "    <tr>\n",
       "      <th>petal length (cm)</th>\n",
       "      <td>0.871754</td>\n",
       "      <td>-0.428440</td>\n",
       "      <td>1.000000</td>\n",
       "      <td>0.962865</td>\n",
       "    </tr>\n",
       "    <tr>\n",
       "      <th>petal width (cm)</th>\n",
       "      <td>0.817941</td>\n",
       "      <td>-0.366126</td>\n",
       "      <td>0.962865</td>\n",
       "      <td>1.000000</td>\n",
       "    </tr>\n",
       "  </tbody>\n",
       "</table>\n",
       "</div>"
      ],
      "text/plain": [
       "                   sepal length (cm)  sepal width (cm)  petal length (cm)  \\\n",
       "sepal length (cm)           1.000000         -0.117570           0.871754   \n",
       "sepal width (cm)           -0.117570          1.000000          -0.428440   \n",
       "petal length (cm)           0.871754         -0.428440           1.000000   \n",
       "petal width (cm)            0.817941         -0.366126           0.962865   \n",
       "\n",
       "                   petal width (cm)  \n",
       "sepal length (cm)          0.817941  \n",
       "sepal width (cm)          -0.366126  \n",
       "petal length (cm)          0.962865  \n",
       "petal width (cm)           1.000000  "
      ]
     },
     "execution_count": 81,
     "metadata": {},
     "output_type": "execute_result"
    }
   ],
   "source": [
    "df.corr() # DataFrame 데이터(df)의 상관 계수 구하기"
   ]
  },
  {
   "cell_type": "markdown",
   "metadata": {},
   "source": [
    "---\n",
    "\n",
    "# 참고\n",
    " - 엑셀자동화 / 9장 엑셀과 파이썬을 이용한 통계 데이터 분석"
   ]
  }
 ],
 "metadata": {
  "kernelspec": {
   "display_name": "Python 3 (ipykernel)",
   "language": "python",
   "name": "python3"
  },
  "language_info": {
   "codemirror_mode": {
    "name": "ipython",
    "version": 3
   },
   "file_extension": ".py",
   "mimetype": "text/x-python",
   "name": "python",
   "nbconvert_exporter": "python",
   "pygments_lexer": "ipython3",
   "version": "3.9.7"
  },
  "latex_envs": {
   "LaTeX_envs_menu_present": true,
   "autoclose": false,
   "autocomplete": true,
   "bibliofile": "biblio.bib",
   "cite_by": "number",
   "current_citInitial": 1,
   "eqLabelWithNumbers": false,
   "eqNumInitial": 1,
   "hotkeys": {
    "equation": "Ctrl-E",
    "itemize": "Ctrl-I"
   },
   "labels_anchors": false,
   "latex_user_defs": false,
   "report_style_numbering": true,
   "user_envs_cfg": true
  },
  "toc": {
   "base_numbering": "9",
   "nav_menu": {},
   "number_sections": false,
   "sideBar": true,
   "skip_h1_title": false,
   "title_cell": "Table of Contents",
   "title_sidebar": "Contents",
   "toc_cell": false,
   "toc_position": {
    "height": "calc(100% - 180px)",
    "left": "10px",
    "top": "150px",
    "width": "315px"
   },
   "toc_section_display": true,
   "toc_window_display": false
  }
 },
 "nbformat": 4,
 "nbformat_minor": 4
}
